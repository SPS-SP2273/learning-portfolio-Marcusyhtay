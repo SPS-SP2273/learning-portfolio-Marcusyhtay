{
 "cells": [
  {
   "attachments": {},
   "cell_type": "markdown",
   "id": "123456",
   "metadata": {},
   "source": [
    "<div style=\"text-align:left;font-size:2em\"><span style=\"font-weight:bolder;font-size:1.25em\">SP2273 | Learning Portfolio</span><br><br><span style=\"font-weight:bold;color:darkred\">Fundamentals (Good) Exercises</span></div>"
   ]
  },
  {
   "cell_type": "markdown",
   "id": "2d7ed8f0",
   "metadata": {},
   "source": [
    "## Exercise 1 (f-strings to the rescue)  "
   ]
  },
  {
   "cell_type": "markdown",
   "id": "44298372",
   "metadata": {},
   "source": [
    "#### Example 1"
   ]
  },
  {
   "cell_type": "code",
   "execution_count": 73,
   "id": "0d93ab3e",
   "metadata": {},
   "outputs": [
    {
     "name": "stdout",
     "output_type": "stream",
     "text": [
      "You entered 1\n"
     ]
    }
   ],
   "source": [
    "user_input = input('Please provide me with a number:')\n",
    "print('You entered', user_input)"
   ]
  },
  {
   "cell_type": "markdown",
   "id": "4d2c57d4",
   "metadata": {},
   "source": [
    "#### Task 1 How you doin NAME!"
   ]
  },
  {
   "cell_type": "code",
   "execution_count": 75,
   "id": "5a5f68a5",
   "metadata": {},
   "outputs": [
    {
     "name": "stdout",
     "output_type": "stream",
     "text": [
      "\"How you doin JOEY!\"\n"
     ]
    }
   ],
   "source": [
    "user_input = input('What is your name?').upper()\n",
    "print(f'\"How you doin {user_input}!\"')"
   ]
  },
  {
   "cell_type": "markdown",
   "id": "df0f3c42",
   "metadata": {},
   "source": [
    "#### Task 2 My name is NAME and I am AGE years old."
   ]
  },
  {
   "cell_type": "code",
   "execution_count": 76,
   "id": "88ca6a34",
   "metadata": {},
   "outputs": [
    {
     "name": "stdout",
     "output_type": "stream",
     "text": [
      "\"My name is JOHN and I am 5 years old.\"\n"
     ]
    }
   ],
   "source": [
    "input_name = input('What is your name?').upper()\n",
    "input_age = input('What is your age?')\n",
    "print(f'\"My name is {input_name} and I am {input_age} years old.\"')"
   ]
  },
  {
   "cell_type": "markdown",
   "id": "dd37de0a",
   "metadata": {},
   "source": [
    "#### Task 3 "
   ]
  },
  {
   "cell_type": "code",
   "execution_count": 35,
   "id": "e2423fcf",
   "metadata": {},
   "outputs": [
    {
     "name": "stdout",
     "output_type": "stream",
     "text": [
      "The value of pi to 2 decimal places is: 3.14\n",
      "\n",
      "The value of pi to 3 decimal places is: 3.142\n",
      "\n",
      "The value of pi to 4 decimal places is: 3.1416\n"
     ]
    }
   ],
   "source": [
    "pi = 3.141592653589793\n",
    "\n",
    "print(f'The value of pi to 2 decimal places is: {pi:.2f}\\n')\n",
    "print(f'The value of pi to 3 decimal places is: {pi:.3f}\\n')\n",
    "print(f'The value of pi to 4 decimal places is: {pi:.4f}')\n",
    "\n"
   ]
  },
  {
   "cell_type": "markdown",
   "id": "3be9992c",
   "metadata": {},
   "source": [
    "#### Task 4"
   ]
  },
  {
   "cell_type": "code",
   "execution_count": 34,
   "id": "802775e6",
   "metadata": {},
   "outputs": [
    {
     "name": "stdout",
     "output_type": "stream",
     "text": [
      "Apple      $ 0.99\n",
      "Banana     $ 0.59\n",
      "Orange     $ 1.29\n",
      "\n",
      "********** $*****\n"
     ]
    }
   ],
   "source": [
    "FrP={\n",
    "    'Fruit': ['Apple','Banana','Orange'],\n",
    "    'Price': [0.99,0.59,1.29] #using floats is helpful if we want to do calculations on the prices\n",
    "}\n",
    "for i in range (0,3):\n",
    "    print(f'{FrP['Fruit'][i]:<10} ${FrP['Price'][i]:> 5.2f}') \n",
    "\n",
    "print('\\n********** $*****')"
   ]
  },
  {
   "cell_type": "code",
   "execution_count": 39,
   "id": "a381477a",
   "metadata": {},
   "outputs": [
    {
     "ename": "ValueError",
     "evalue": "invalid literal for int() with base 10: '0.1'",
     "output_type": "error",
     "traceback": [
      "\u001b[31m---------------------------------------------------------------------------\u001b[39m",
      "\u001b[31mValueError\u001b[39m                                Traceback (most recent call last)",
      "\u001b[36mCell\u001b[39m\u001b[36m \u001b[39m\u001b[32mIn[39]\u001b[39m\u001b[32m, line 1\u001b[39m\n\u001b[32m----> \u001b[39m\u001b[32m1\u001b[39m \u001b[38;5;28;43mint\u001b[39;49m\u001b[43m(\u001b[49m\u001b[33;43m'\u001b[39;49m\u001b[33;43m0.1\u001b[39;49m\u001b[33;43m'\u001b[39;49m\u001b[43m)\u001b[49m\n",
      "\u001b[31mValueError\u001b[39m: invalid literal for int() with base 10: '0.1'"
     ]
    }
   ],
   "source": [
    "int('0.1')"
   ]
  },
  {
   "cell_type": "markdown",
   "id": "3238a41e",
   "metadata": {},
   "source": [
    "## Exercise 2 (What is your grade?)"
   ]
  },
  {
   "cell_type": "code",
   "execution_count": 61,
   "id": "973024c8",
   "metadata": {},
   "outputs": [
    {
     "name": "stdout",
     "output_type": "stream",
     "text": [
      "The student's letter grade is: Fail\n"
     ]
    }
   ],
   "source": [
    "input_grade = input(\"Enter the student's score:\")\n",
    "\n",
    "try:\n",
    "    input_grade_dec = int(float(input_grade))\n",
    "    if input_grade_dec < 0 or input_grade_dec > 100:\n",
    "        print('Please enter a score from 0-100!')\n",
    "    elif input_grade_dec < 35:\n",
    "        print(\"The student's letter grade is: Fail\")\n",
    "    elif input_grade_dec < 50:\n",
    "        print(\"The student's letter grade is: C\")\n",
    "    elif input_grade_dec < 70:\n",
    "        print(\"The student's letter grade is: B\")\n",
    "    else:\n",
    "        print(\"The student's letter grade is: A\")\n",
    "except:\n",
    "    print('Please enter a number from 0 to 100!')\n"
   ]
  },
  {
   "cell_type": "markdown",
   "id": "6f8c8cfb",
   "metadata": {},
   "source": [
    "## Exercise 3 (Debugging Code)"
   ]
  },
  {
   "cell_type": "code",
   "execution_count": 39,
   "id": "d5deee55",
   "metadata": {},
   "outputs": [
    {
     "name": "stdout",
     "output_type": "stream",
     "text": [
      "120\n",
      "Invalid input\n"
     ]
    }
   ],
   "source": [
    "def factorial(n):\n",
    "    if n < 0: #change > to <\n",
    "        return \"Invalid input\"\n",
    "    elif n == 0: #change != to ==\n",
    "        return 1\n",
    "    else:\n",
    "        result = 1\n",
    "        for number in range(1, n+1):\n",
    "            result *= number #change += to *=\n",
    "        return result\n",
    "\n",
    "\n",
    "print(factorial(5))   # Testing, expected output: 120\n",
    "print(factorial(-1))  # Testing, expected output: Invalid input"
   ]
  }
 ],
 "metadata": {
  "kernelspec": {
   "display_name": "base",
   "language": "python",
   "name": "python3"
  },
  "language_info": {
   "codemirror_mode": {
    "name": "ipython",
    "version": 3
   },
   "file_extension": ".py",
   "mimetype": "text/x-python",
   "name": "python",
   "nbconvert_exporter": "python",
   "pygments_lexer": "ipython3",
   "version": "3.13.5"
  },
  "toc": {
   "base_numbering": 1,
   "nav_menu": {},
   "number_sections": true,
   "sideBar": true,
   "skip_h1_title": false,
   "title_cell": "Table of Contents",
   "title_sidebar": "Contents",
   "toc_cell": false,
   "toc_position": {},
   "toc_section_display": true,
   "toc_window_display": false
  }
 },
 "nbformat": 4,
 "nbformat_minor": 5
}
