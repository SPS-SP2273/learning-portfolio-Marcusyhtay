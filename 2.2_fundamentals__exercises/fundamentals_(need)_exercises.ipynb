{
 "cells": [
  {
   "attachments": {},
   "cell_type": "markdown",
   "id": "123456",
   "metadata": {},
   "source": [
    "<div style=\"text-align:left;font-size:2em\"><span style=\"font-weight:bolder;font-size:1.25em\">SP2273 | Learning Portfolio</span><br><br><span style=\"font-weight:bold;color:darkred\">Fundamentals (Need) Exercises</span></div>"
   ]
  },
  {
   "cell_type": "markdown",
   "id": "e082f39a",
   "metadata": {},
   "source": [
    "## Exercise 1 (Total recall?)"
   ]
  },
  {
   "cell_type": "markdown",
   "id": "ae590ec8",
   "metadata": {},
   "source": [
    "1. If else loop\n",
    "2. Mutable and imutable variables in python\n",
    "3. Functions\n",
    "4. \\ to escape\n",
    "4. ternary operators\n",
    "4. Math and numpy package\n",
    "4. Floats/integer/string *complex*\n",
    "4. Indentations being important\n",
    "6. Case sensitivity of python commands\n",
    "6. *F-strings*\n",
    "6. mathematical symbols are able to be shortened \n",
    "6. *Python is interpreted*\n",
    "7. *Comments*\n",
    "7. *= vs ==*\n",
    "7. *english vs variables*\n",
    "7. *types of brackets*\n",
    "8. *the dot indicates ownership*\n",
    "8. *asking questions*\n",
    "8. *Never compare floats directly, check if they are close*\n",
    "8. *Computers read from right to left*\n",
    "8. *swapping values*\n",
    "8. *operator precedence*\n",
    "8. *Variables in python being assigned to an object*"
   ]
  },
  {
   "cell_type": "markdown",
   "id": "b86cd510",
   "metadata": {},
   "source": [
    "## Exercise 2 (Debug me)"
   ]
  },
  {
   "cell_type": "code",
   "execution_count": null,
   "id": "173f9a70",
   "metadata": {},
   "outputs": [
    {
     "name": "stdout",
     "output_type": "stream",
     "text": [
      "3 4 5\n"
     ]
    }
   ],
   "source": [
    "import math                         #fixed as sqrt is not defined\n",
    "x, y = 3, 4\n",
    "z = int(math.sqrt(x**2 + y**2))     #added int, decreased indentation and changed to x^2\n",
    "print(x, y, z)                      #changed capital p"
   ]
  },
  {
   "cell_type": "markdown",
   "id": "6035ec9b",
   "metadata": {},
   "source": [
    "## Exercise 3 (In your own words)"
   ]
  },
  {
   "cell_type": "markdown",
   "id": "5a97eec6",
   "metadata": {},
   "source": [
    "|  # | Term         |                                                                                  Description                                                                                 |\n",
    "|:--:|--------------|:----------------------------------------------------------------------------------------------------------------------------------------------------------------------------:|\n",
    "|  1 | Function     | Encapsulates a set of instructions to serve a purpose, and when run, it executes these steps based on input parameters                                                       |\n",
    "|  2 | Arguments    | Input options in functions that vary the output                                                                                                                              |\n",
    "|  3 | Comments     | Words or sentences not read by the kernel as part of the code, but visible to us to serve a human purpose in the form of documentation to hep us remember how the code works |\n",
    "|  4 | Indentations | A 4n-character whitespace at the start of each line of code that tells the kernel how we plan to nest our lines of code                                                      |\n",
    "|  5 | Packages     | Groups of functions and other code not inherent to python, we have to import these at the start of our code to use them                                                      |\n",
    "|  6 | .            | We use the dot to call a part of a whole: for example, functions under a package, attributes/functions tied to an object                                                     |\n",
    "|  7 | :            | Signifies the end of the first line in functions like if-else loops and the start of the included code/signify relation for dictionary keys and values or f-strings          |\n",
    "|  8 | []           | Square brackets that contain lists of data, or used to call values from a dictionary/lists                                                                                   |\n",
    "|  9 | [[],[]]      | A list that contains 2 elements, both of which are empty                                                                                                                     |\n",
    "| 10 | {}           | Braces that contain dictionaries, which use a key to output values associated with the keys, or for signifying variables in f-strings                                        |"
   ]
  },
  {
   "cell_type": "markdown",
   "id": "504f2fad",
   "metadata": {},
   "source": [
    "## Exercise 4 (More than one way to divide)"
   ]
  },
  {
   "cell_type": "code",
   "execution_count": 17,
   "id": "ebc11647",
   "metadata": {},
   "outputs": [
    {
     "data": {
      "text/plain": [
       "2.5"
      ]
     },
     "execution_count": 17,
     "metadata": {},
     "output_type": "execute_result"
    }
   ],
   "source": [
    "5.0/2           # This is float division which yields a float"
   ]
  },
  {
   "cell_type": "code",
   "execution_count": 19,
   "id": "813cce3f",
   "metadata": {},
   "outputs": [
    {
     "data": {
      "text/plain": [
       "2.0"
      ]
     },
     "execution_count": 19,
     "metadata": {},
     "output_type": "execute_result"
    }
   ],
   "source": [
    "5//2.0          # This is integer or floor division that yields a floored integer, or a floored float if amy of the 2 is a float"
   ]
  },
  {
   "cell_type": "code",
   "execution_count": null,
   "id": "c18e6a3d",
   "metadata": {},
   "outputs": [
    {
     "data": {
      "text/plain": [
       "1"
      ]
     },
     "execution_count": 13,
     "metadata": {},
     "output_type": "execute_result"
    }
   ],
   "source": [
    "5%2           # This is the modulus operator that yields the remainder of the division"
   ]
  }
 ],
 "metadata": {
  "kernelspec": {
   "display_name": "base",
   "language": "python",
   "name": "python3"
  },
  "language_info": {
   "codemirror_mode": {
    "name": "ipython",
    "version": 3
   },
   "file_extension": ".py",
   "mimetype": "text/x-python",
   "name": "python",
   "nbconvert_exporter": "python",
   "pygments_lexer": "ipython3",
   "version": "3.13.5"
  },
  "toc": {
   "base_numbering": 1,
   "nav_menu": {},
   "number_sections": true,
   "sideBar": true,
   "skip_h1_title": false,
   "title_cell": "Table of Contents",
   "title_sidebar": "Contents",
   "toc_cell": false,
   "toc_position": {},
   "toc_section_display": true,
   "toc_window_display": false
  }
 },
 "nbformat": 4,
 "nbformat_minor": 5
}
