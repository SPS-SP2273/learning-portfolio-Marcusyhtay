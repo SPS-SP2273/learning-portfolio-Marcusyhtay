{
 "cells": [
  {
   "attachments": {},
   "cell_type": "markdown",
   "id": "123456",
   "metadata": {},
   "source": [
    "<div style=\"text-align:left;font-size:2em\"><span style=\"font-weight:bolder;font-size:1.25em\">SP2273 | Learning Portfolio</span><br><br><span style=\"font-weight:bold;color:darkred\">Using Jupyter (Need), Exercises</span></div>"
   ]
  },
  {
   "attachments": {},
   "cell_type": "markdown",
   "id": "123456",
   "metadata": {},
   "source": [
    "## 1 Quadratic Equations"
   ]
  },
  {
   "cell_type": "markdown",
   "id": "123456",
   "metadata": {},
   "source": [
    "\n",
    "### **Introduction**\n"
   ]
  },
  {
   "attachments": {},
   "cell_type": "markdown",
   "id": "123456",
   "metadata": {},
   "source": [
    "![](https://upload.wikimedia.org/wikipedia/commons/thumb/f/f8/Polynomialdeg2.svg/600px-Polynomialdeg2.svg.png)\n",
    "\n",
    "_(Image from the [Wikipedia page on Quadratic equations](https://en.wikipedia.org/wiki/Quadratic_equation))_\n",
    "\n",
    "The general form of a quadratic equation is: \n",
    "$$\n",
    "ax^2+bx+c=0\n",
    "$$\n"
   ]
  },
  {
   "attachments": {},
   "cell_type": "markdown",
   "id": "123456",
   "metadata": {},
   "source": [
    "### **Solutions**"
   ]
  },
  {
   "cell_type": "markdown",
   "id": "123456",
   "metadata": {},
   "source": [
    "\n",
    "Provided $a \\ne 0$, we can use an elementary algebraic method called [completing the square](https://en.wikipedia.org/wiki/Completing_the_square) to show that a quadratic equation has the following solution: \n",
    "$$\n",
    "x = \\dfrac{-b \\pm \\sqrt{b^2-4ac}}{2a}\n",
    "$$"
   ]
  },
  {
   "attachments": {},
   "cell_type": "markdown",
   "id": "123456",
   "metadata": {},
   "source": [
    "### **Discriminant**"
   ]
  },
  {
   "cell_type": "markdown",
   "id": "123456",
   "metadata": {},
   "source": [
    "\n",
    "The quantity $\\Delta =b^2-4ac$ is called the **discriminant** of the equation and decides the nature of its solutions. The table below shows the various possibilities.\n",
    "| Discriminant            | Roots                               |\n",
    "|-------------------------|-------------------------------------|\n",
    "| $\\Delta =b^2-4ac=0$     | A single solution of $-b / (2a)$    |\n",
    "| $\\Delta =b^2-4ac \\gt 0$ | Two distinct solutions              |\n",
    "| $\\Delta =b^2-4ac \\lt 0$ | No real solutions; both are complex |"
   ]
  },
  {
   "cell_type": "markdown",
   "id": "74583f24",
   "metadata": {},
   "source": [
    "## 2 (In Your Own Words)"
   ]
  },
  {
   "cell_type": "markdown",
   "id": "048c66db",
   "metadata": {},
   "source": [
    "1. A Git repository is where all our code (our entire project) is stored on the cloud. This allows us to track the changes we make to the repository as well as fulfil other functions like collaboration or a second copy/backup.\n",
    "\n",
    "2. changes\n",
    "\n",
    "3. We can group multiple file changes in our repository together and name them as a commit to be pushed to the cloud. This functions as a checkpoint for our code edits and work at a particular point in time.\n",
    "\n",
    "4. Uploading our local (on-device) changes to our github repository in the cloud. This will ensure the cloud version is updated with the changes we made locally.\n",
    "\n",
    "5. Downloading the latest version of our cloud github repository to our device by updating our local version with any changes. This will ensure our local version is updated with the latest changes to the cloud repository; for example, those made by collaborators or other users.\n",
    "\n",
    "6. Github is a cloud storage platform for code, and Github desktop is a desktop application developed by Github that allows us to easily push/pull/commit our on-device code to synchronise the local and cloud versions."
   ]
  },
  {
   "cell_type": "markdown",
   "id": "ce796b7a",
   "metadata": {},
   "source": [
    "## 3 (A Matter of Statistics) "
   ]
  },
  {
   "cell_type": "markdown",
   "id": "9c47eceb",
   "metadata": {},
   "source": [
    "$$\n",
    "\\mu = \\frac{1}{n} \\sum_{i = 1}^n x_i\n",
    "$$\n",
    "\n",
    "$$\n",
    "\\sigma = \\sqrt{\\frac{1}{n} \\sum_{i = 1}^n (x_i - \\mu )^{2}}\n",
    "$$\n",
    "\n",
    "$$\n",
    "r = \\frac{\\sum_{i = 1}^n  (x_{i} - \\mu_{X}) (y_{i} - \\mu_{Y}) }{\\sqrt{\\sum_{i = 1}^n (x_{i} - \\mu_{X}) ^{2} \\sum_{i = 1}^{n}  (y_{i} - \\mu_{Y}) ^{2}}}\n",
    "$$"
   ]
  }
 ],
 "metadata": {
  "kernelspec": {
   "display_name": "base",
   "language": "python",
   "name": "python3"
  },
  "language_info": {
   "codemirror_mode": {
    "name": "ipython",
    "version": 3
   },
   "file_extension": ".py",
   "mimetype": "text/x-python",
   "name": "python",
   "nbconvert_exporter": "python",
   "pygments_lexer": "ipython3",
   "version": "3.13.5"
  },
  "toc": {
   "base_numbering": 1,
   "nav_menu": {},
   "number_sections": true,
   "sideBar": true,
   "skip_h1_title": false,
   "title_cell": "Table of Contents",
   "title_sidebar": "Contents",
   "toc_cell": false,
   "toc_position": {},
   "toc_section_display": true,
   "toc_window_display": false
  }
 },
 "nbformat": 4,
 "nbformat_minor": 5
}
