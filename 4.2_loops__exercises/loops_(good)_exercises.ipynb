{
 "cells": [
  {
   "attachments": {},
   "cell_type": "markdown",
   "id": "123456",
   "metadata": {},
   "source": [
    "<div style=\"text-align:left;font-size:2em\"><span style=\"font-weight:bolder;font-size:1.25em\">SP2273 | Learning Portfolio</span><br><br><span style=\"font-weight:bold;color:darkred\">Loops (Good) Exercises</span></div>"
   ]
  },
  {
   "cell_type": "markdown",
   "id": "75d9a98c",
   "metadata": {},
   "source": [
    "## Exercise 1 (Make me an odd list)"
   ]
  },
  {
   "cell_type": "code",
   "execution_count": 1,
   "id": "39b82ebd",
   "metadata": {},
   "outputs": [
    {
     "name": "stdout",
     "output_type": "stream",
     "text": [
      "[1, 9, 25, 49, 81]\n"
     ]
    }
   ],
   "source": [
    "odd_integer_square = []\n",
    "for integer in range(0,10):\n",
    "    if integer%2==0:\n",
    "        continue\n",
    "    odd_integer_square.append(integer**2)\n",
    "\n",
    "print(odd_integer_square)"
   ]
  },
  {
   "cell_type": "markdown",
   "id": "aef5fc0b",
   "metadata": {},
   "source": [
    "## Exercise 2 (Make me another odd list)"
   ]
  },
  {
   "cell_type": "code",
   "execution_count": 2,
   "id": "5446c0cc",
   "metadata": {},
   "outputs": [
    {
     "name": "stdout",
     "output_type": "stream",
     "text": [
      "[1, 9, 25, 49, 81]\n"
     ]
    }
   ],
   "source": [
    "print([integer**2 for integer in range (10) if integer%2==1])"
   ]
  },
  {
   "cell_type": "markdown",
   "id": "d09997df",
   "metadata": {},
   "source": [
    "## Exercise 3 (Time me!)"
   ]
  },
  {
   "cell_type": "code",
   "execution_count": 13,
   "id": "b46837a9",
   "metadata": {},
   "outputs": [
    {
     "name": "stdout",
     "output_type": "stream",
     "text": [
      "476 ns ± 10.7 ns per loop (mean ± std. dev. of 7 runs, 1,000,000 loops each)\n"
     ]
    }
   ],
   "source": [
    "%%timeit\n",
    "odd_integer_square = []\n",
    "for integer in range(0,10):\n",
    "    if integer%2==0:\n",
    "        continue\n",
    "    odd_integer_square.append(integer**2)"
   ]
  },
  {
   "cell_type": "code",
   "execution_count": 14,
   "id": "30e4bbd6",
   "metadata": {},
   "outputs": [
    {
     "name": "stdout",
     "output_type": "stream",
     "text": [
      "412 ns ± 1.78 ns per loop (mean ± std. dev. of 7 runs, 1,000,000 loops each)\n"
     ]
    }
   ],
   "source": [
    "%%timeit\n",
    "[integer**2 for integer in range (10) if integer%2==1]"
   ]
  },
  {
   "cell_type": "markdown",
   "id": "13b56896",
   "metadata": {},
   "source": [
    "The second method is faster."
   ]
  },
  {
   "cell_type": "markdown",
   "id": "282adbec",
   "metadata": {},
   "source": [
    "## Exercise 4 (A problem of decay)"
   ]
  },
  {
   "cell_type": "code",
   "execution_count": 16,
   "id": "4c242269",
   "metadata": {},
   "outputs": [
    {
     "name": "stdout",
     "output_type": "stream",
     "text": [
      "It will take 14 years for the sample of radioactive substance to reduce to half its original amount.\n"
     ]
    }
   ],
   "source": [
    "amount = 100\n",
    "count = 0\n",
    "while amount>50:\n",
    "    amount *= 0.95\n",
    "    count += 1\n",
    "print(f'It will take {count} years for the sample of radioactive substance to reduce to half its original amount.')"
   ]
  },
  {
   "cell_type": "markdown",
   "id": "2ea4967a",
   "metadata": {},
   "source": [
    "## Exercise 5 (Changes in CO<sub>2)"
   ]
  },
  {
   "cell_type": "code",
   "execution_count": 11,
   "id": "859a390d",
   "metadata": {},
   "outputs": [
    {
     "name": "stdout",
     "output_type": "stream",
     "text": [
      "2016: 3.41ppm\n"
     ]
    }
   ],
   "source": [
    "co2_data = [\n",
    "    (2000, 369.55), (2001, 371.14), (2002, 373.28), \n",
    "    (2003, 375.80), (2004, 377.52), (2005, 379.80), \n",
    "    (2006, 381.90), (2007, 383.79), (2008, 385.60), \n",
    "    (2009, 387.43), (2010, 389.90), (2011, 391.65), \n",
    "    (2012, 393.85), (2013, 396.52), (2014, 398.65),\n",
    "    (2015, 400.83), (2016, 404.24), (2017, 406.55), \n",
    "    (2018, 408.52), (2019, 411.44), (2020, 414.24)\n",
    "]\n",
    "\n",
    "for number in range (1, len(co2_data)):\n",
    "    current_year = co2_data[number][1]\n",
    "    last_year = co2_data[number-1][1]\n",
    "    if current_year-last_year>=3:\n",
    "        print(f'{co2_data[number][0]}: {current_year-last_year:2g}ppm')"
   ]
  }
 ],
 "metadata": {
  "kernelspec": {
   "display_name": "base",
   "language": "python",
   "name": "python3"
  },
  "language_info": {
   "codemirror_mode": {
    "name": "ipython",
    "version": 3
   },
   "file_extension": ".py",
   "mimetype": "text/x-python",
   "name": "python",
   "nbconvert_exporter": "python",
   "pygments_lexer": "ipython3",
   "version": "3.13.5"
  },
  "toc": {
   "base_numbering": 1,
   "nav_menu": {},
   "number_sections": true,
   "sideBar": true,
   "skip_h1_title": false,
   "title_cell": "Table of Contents",
   "title_sidebar": "Contents",
   "toc_cell": false,
   "toc_position": {},
   "toc_section_display": true,
   "toc_window_display": false
  }
 },
 "nbformat": 4,
 "nbformat_minor": 5
}
