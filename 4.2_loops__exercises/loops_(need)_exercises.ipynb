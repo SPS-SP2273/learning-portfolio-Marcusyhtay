{
 "cells": [
  {
   "attachments": {},
   "cell_type": "markdown",
   "id": "123456",
   "metadata": {},
   "source": [
    "<div style=\"text-align:left;font-size:2em\"><span style=\"font-weight:bolder;font-size:1.25em\">SP2273 | Learning Portfolio</span><br><br><span style=\"font-weight:bold;color:darkred\">Loops (Need) Exercises</span></div>"
   ]
  },
  {
   "cell_type": "markdown",
   "id": "5f29a30a",
   "metadata": {},
   "source": [
    "## Exercise 1 (Celsius to Fahrenheit)"
   ]
  },
  {
   "cell_type": "code",
   "execution_count": 1,
   "id": "046c03af",
   "metadata": {},
   "outputs": [
    {
     "name": "stdout",
     "output_type": "stream",
     "text": [
      "0°C, 32°F\n",
      "5°C, 41°F\n",
      "10°C, 50°F\n",
      "15°C, 59°F\n",
      "20°C, 68°F\n",
      "25°C, 77°F\n",
      "30°C, 86°F\n",
      "35°C, 95°F\n",
      "40°C, 104°F\n",
      "45°C, 113°F\n",
      "50°C, 122°F\n"
     ]
    }
   ],
   "source": [
    "temperatures_celsius = [\n",
    "    0, 5, 10, 15, 20, 25,\n",
    "    30, 35, 40, 45, 50\n",
    "]\n",
    "\n",
    "for temp in temperatures_celsius:\n",
    "    print(f'{temp}°C, {int(temp*1.8+32)}°F')"
   ]
  },
  {
   "cell_type": "markdown",
   "id": "794ad18f",
   "metadata": {},
   "source": [
    "## Exercise 2 (Multiplication table) "
   ]
  },
  {
   "cell_type": "code",
   "execution_count": 10,
   "id": "3df5b3ef",
   "metadata": {},
   "outputs": [
    {
     "name": "stdout",
     "output_type": "stream",
     "text": [
      "A1\tA2\tA3\t\n",
      "\n",
      "B1\tB2\tB3\t\n",
      "\n",
      "C1\tC2\tC3\t\n",
      "\n"
     ]
    }
   ],
   "source": [
    "for letter in ['A', 'B', 'C']:\n",
    "    for number in [1, 2, 3]:\n",
    "        print(f'{letter}{number}', end='\\t')\n",
    "    print('\\n')"
   ]
  },
  {
   "cell_type": "code",
   "execution_count": 60,
   "id": "1d545cf6",
   "metadata": {},
   "outputs": [
    {
     "name": "stdout",
     "output_type": "stream",
     "text": [
      "1 :  1   2   3   4   5  \n",
      "2 :  2   4   6   8   10 \n",
      "3 :  3   6   9   12  15 \n",
      "4 :  4   8   12  16  20 \n",
      "5 :  5   10  15  20  25 \n"
     ]
    }
   ],
   "source": [
    "for count in range(1,6):\n",
    "    print(f'{count} : ', end=\"\")\n",
    "    for m_value in range (1, 6):\n",
    "        a = count*m_value\n",
    "        print(f'{a:< 4}', end=\"\")\n",
    "    print()\n",
    "    "
   ]
  },
  {
   "cell_type": "code",
   "execution_count": 59,
   "id": "b4325c58",
   "metadata": {},
   "outputs": [
    {
     "name": "stdout",
     "output_type": "stream",
     "text": [
      "1 : 1   2   3   4   5  \n",
      "2 : 2   4   6   8   10 \n",
      "3 : 3   6   9   12  15 \n",
      "4 : 4   8   12  16  20 \n",
      "5 : 5   10  15  20  25 \n"
     ]
    }
   ],
   "source": [
    "for count in range(1,6):\n",
    "    output = []\n",
    "    for m_value in range (1, 6):\n",
    "        output.append(count*m_value)\n",
    "    print(f'{count} :{output[0]:< 4}{output[1]:< 4}{output[2]:< 4}{output[3]:< 4}{output[4]:< 4}')"
   ]
  },
  {
   "cell_type": "markdown",
   "id": "113a71e3",
   "metadata": {},
   "source": [
    "## Exercise 3 (Simulating a Coin Flip Experiment) "
   ]
  },
  {
   "cell_type": "code",
   "execution_count": 3,
   "id": "2da1836c",
   "metadata": {},
   "outputs": [
    {
     "data": {
      "text/plain": [
       "array([0.6990999 , 0.86239752, 0.39531995, 0.05954832, 0.3670546 ,\n",
       "       0.10517993, 0.66102372, 0.03600794, 0.71734041, 0.63207596])"
      ]
     },
     "execution_count": 3,
     "metadata": {},
     "output_type": "execute_result"
    }
   ],
   "source": [
    "import numpy as np\n",
    "np.random.rand(10)"
   ]
  },
  {
   "cell_type": "code",
   "execution_count": 6,
   "id": "99e19d8e",
   "metadata": {},
   "outputs": [
    {
     "name": "stdout",
     "output_type": "stream",
     "text": [
      "Experiment  1: No. of Heads = 4\n",
      "Experiment  2: No. of Heads = 4\n",
      "Experiment  3: No. of Heads = 4\n",
      "Experiment  4: No. of Heads = 6\n",
      "Experiment  5: No. of Heads = 4\n",
      "Experiment  6: No. of Heads = 5\n",
      "Experiment  7: No. of Heads = 4\n",
      "Experiment  8: No. of Heads = 6\n",
      "Experiment  9: No. of Heads = 5\n",
      "Experiment 10: No. of Heads = 6\n"
     ]
    }
   ],
   "source": [
    "for count in range (1, 11):\n",
    "    coin_flips = np.random.rand(10)\n",
    "    heads = 0\n",
    "    for flip in range(10):\n",
    "        if coin_flips[flip]>=0.5:\n",
    "            heads+=1\n",
    "    print(f'Experiment {count:>2}: No. of Heads = {heads}')"
   ]
  },
  {
   "cell_type": "code",
   "execution_count": 17,
   "id": "31a57bb0",
   "metadata": {},
   "outputs": [
    {
     "name": "stdout",
     "output_type": "stream",
     "text": [
      "Experiment  1: No. of Heads = 5\n",
      "Experiment  2: No. of Heads = 4\n",
      "Experiment  3: No. of Heads = 7\n",
      "Experiment  4: No. of Heads = 4\n",
      "Experiment  5: No. of Heads = 7\n",
      "Experiment  6: No. of Heads = 4\n",
      "Experiment  7: No. of Heads = 1\n",
      "Experiment  8: No. of Heads = 4\n",
      "Experiment  9: No. of Heads = 7\n",
      "Experiment 10: No. of Heads = 5\n"
     ]
    }
   ],
   "source": [
    "for count in range (1, 11):\n",
    "    coin_flips = np.random.rand(10)\n",
    "    heads = sum(flip>0.5 for flip in coin_flips)\n",
    "    print(f'Experiment {count:>2}: No. of Heads = {heads}')"
   ]
  }
 ],
 "metadata": {
  "kernelspec": {
   "display_name": "base",
   "language": "python",
   "name": "python3"
  },
  "language_info": {
   "codemirror_mode": {
    "name": "ipython",
    "version": 3
   },
   "file_extension": ".py",
   "mimetype": "text/x-python",
   "name": "python",
   "nbconvert_exporter": "python",
   "pygments_lexer": "ipython3",
   "version": "3.13.5"
  },
  "toc": {
   "base_numbering": 1,
   "nav_menu": {},
   "number_sections": true,
   "sideBar": true,
   "skip_h1_title": false,
   "title_cell": "Table of Contents",
   "title_sidebar": "Contents",
   "toc_cell": false,
   "toc_position": {},
   "toc_section_display": true,
   "toc_window_display": false
  }
 },
 "nbformat": 4,
 "nbformat_minor": 5
}
