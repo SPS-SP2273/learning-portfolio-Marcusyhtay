{
 "cells": [
  {
   "attachments": {},
   "cell_type": "markdown",
   "id": "123456",
   "metadata": {},
   "source": [
    "<div style=\"text-align:left;font-size:2em\"><span style=\"font-weight:bolder;font-size:1.25em\">SP2273 | Learning Portfolio</span><br><br><span style=\"font-weight:bold;color:darkred\">Storing Data (Need) Exercises</span></div>"
   ]
  },
  {
   "cell_type": "markdown",
   "id": "76015d3e",
   "metadata": {},
   "source": [
    "## Exercise 1 (Total recall?)"
   ]
  },
  {
   "cell_type": "markdown",
   "id": "ca758fbe",
   "metadata": {},
   "source": [
    "1. Both lists and arrays are mutable data storage formats in python that store multiple values in sequential order and utilise zero-based indexing to access the stored elements.\n",
    "\n",
    "2. Carrying out actions on lists usually act on the whole list as one, while carrying out actions on arrays act on the individual elements. Next, lists can store multiple data types while elements in arrays can only be of one data type.\n",
    "\n",
    "3. Dictionaries are another data storage format that associate keys with values, to enable us to obtain different output values based on the input key."
   ]
  },
  {
   "cell_type": "markdown",
   "id": "55020088",
   "metadata": {},
   "source": [
    "## Exercise 2 (Indexing)"
   ]
  },
  {
   "cell_type": "code",
   "execution_count": 4,
   "id": "bd1f7bed",
   "metadata": {},
   "outputs": [
    {
     "name": "stdout",
     "output_type": "stream",
     "text": [
      "a1\n",
      "c3\n",
      "e5\n",
      "g7\n",
      "i9\n"
     ]
    }
   ],
   "source": [
    "py_list = [\"a1\", \"b2\", \"c3\", \"d4\", \"e5\", \"f6\", \"g7\", \"h8\", \"i9\", \"j10\"]\n",
    "for i in range (0,len(py_list),2):\n",
    "    print(py_list[i])"
   ]
  },
  {
   "cell_type": "markdown",
   "id": "93c67f3b",
   "metadata": {},
   "source": [
    "## Exercise 3 (Index again) "
   ]
  },
  {
   "cell_type": "code",
   "execution_count": 10,
   "id": "00086d0e",
   "metadata": {},
   "outputs": [
    {
     "name": "stdout",
     "output_type": "stream",
     "text": [
      "Boron\n",
      "Boron\n"
     ]
    }
   ],
   "source": [
    "elements = ['Hydrogen',\n",
    "            'Helium', 'Lithium',\n",
    "            'Beryllium', 'Boron', 'Carbon',\n",
    "            'Nitrogen', 'Oxygen',\n",
    "            'Fluorine',\n",
    "            'Neon']\n",
    "print(elements[4])\n",
    "print(elements[-6])"
   ]
  },
  {
   "cell_type": "markdown",
   "id": "433c4f76",
   "metadata": {},
   "source": [
    "## Exercise 4 (How many ones)"
   ]
  },
  {
   "cell_type": "code",
   "execution_count": 13,
   "id": "fa5a8c9f",
   "metadata": {},
   "outputs": [
    {
     "name": "stdout",
     "output_type": "stream",
     "text": [
      "9\n"
     ]
    }
   ],
   "source": [
    "import numpy as np\n",
    "numbers=[45, 60, 1, 30, 96, 1, 96, 57, 16, 1,\n",
    "        99, 62, 86, 43, 42, 60, 59, 1, 1, 35,\n",
    "        83, 47, 34, 28, 68, 23, 22, 92, 1, 79,\n",
    "        1, 29, 94, 72, 46, 47, 1, 74, 32, 20,\n",
    "        8, 37, 35, 1, 89, 29, 86, 19, 43, 61]\n",
    "numbers_array=np.array(numbers)\n",
    "print(sum(numbers_array==1))"
   ]
  },
  {
   "cell_type": "markdown",
   "id": "fe05dc42",
   "metadata": {},
   "source": [
    "## Exercise 5 (A Matter of Statistics)"
   ]
  },
  {
   "cell_type": "code",
   "execution_count": 31,
   "id": "b854446b",
   "metadata": {},
   "outputs": [
    {
     "name": "stdout",
     "output_type": "stream",
     "text": [
      "The mean of x1 is 38.5 and the mean of x2 is 302.5\n",
      "The SD of x1 is 32.41990129534635 and the SD of x2 is 326.0893282522444\n",
      "The command np.corrcoef() gets us 0.9871796626270702 while we obtained 0.9871796626270701\n"
     ]
    }
   ],
   "source": [
    "x_1 = [1, 4, 9, 16, 25, 36, 49, 64, 81, 100]\n",
    "x_2 = [1, 8, 27, 64, 125, 216, 343, 512, 729, 1000]\n",
    "array_x1=np.array(x_1)\n",
    "array_x2=np.array(x_2)\n",
    "print(f'The mean of x1 is {np.mean(array_x1)} and the mean of x2 is {np.mean(array_x2)}')\n",
    "print(f'The SD of x1 is {np.std(array_x1)} and the SD of x2 is {np.std(array_x2)}')\n",
    "\n",
    "x1i_minus_x = array_x1-np.mean(array_x1)\n",
    "x2i_minus_x = array_x2-np.mean(array_x2)\n",
    "r = np.sum(x1i_minus_x*x2i_minus_x) / np.sqrt(np.sum(x1i_minus_x**2)*np.sum(x2i_minus_x**2))\n",
    "print(f'The command np.corrcoef() gets us {np.corrcoef(array_x1,array_x2)[1][0]} while we obtained {r}')"
   ]
  }
 ],
 "metadata": {
  "kernelspec": {
   "display_name": "base",
   "language": "python",
   "name": "python3"
  },
  "language_info": {
   "codemirror_mode": {
    "name": "ipython",
    "version": 3
   },
   "file_extension": ".py",
   "mimetype": "text/x-python",
   "name": "python",
   "nbconvert_exporter": "python",
   "pygments_lexer": "ipython3",
   "version": "3.13.5"
  },
  "toc": {
   "base_numbering": 1,
   "nav_menu": {},
   "number_sections": true,
   "sideBar": true,
   "skip_h1_title": false,
   "title_cell": "Table of Contents",
   "title_sidebar": "Contents",
   "toc_cell": false,
   "toc_position": {},
   "toc_section_display": true,
   "toc_window_display": false
  }
 },
 "nbformat": 4,
 "nbformat_minor": 5
}
