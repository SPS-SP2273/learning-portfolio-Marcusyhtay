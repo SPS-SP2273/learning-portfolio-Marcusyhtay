{
 "cells": [
  {
   "attachments": {},
   "cell_type": "markdown",
   "id": "123456",
   "metadata": {},
   "source": [
    "<div style=\"text-align:left;font-size:2em\"><span style=\"font-weight:bolder;font-size:1.25em\">SP2273 | Learning Portfolio</span><br><br><span style=\"font-weight:bold;color:darkred\">Storing Data (Good) Exercises</span></div>"
   ]
  },
  {
   "cell_type": "markdown",
   "id": "31c2f424",
   "metadata": {},
   "source": [
    "## Exercise 1 (Total recall)"
   ]
  },
  {
   "cell_type": "markdown",
   "id": "73936b89",
   "metadata": {},
   "source": [
    "|    Term    |                                                             Brief description                                                            |\n",
    "|:----------:|:----------------------------------------------------------------------------------------------------------------------------------------:|\n",
    "| Subsetting | Selecting a portion of data in a list or array                                                                                            |\n",
    "| Indexing   | Selecting a single element from a list or array based on their numerical position                                                           |\n",
    "| Slicing    | Selecting a subset/range of data in a list or array based on a start and/or end index                                                    |\n",
    "| Masking    | Selecting a subset of data in a list or array based on a true/false condition, returns only the elements that satisfy the true condition |"
   ]
  },
  {
   "cell_type": "markdown",
   "id": "76a93ac3",
   "metadata": {},
   "source": [
    "## Exercise 2 (Show me the ‘odd’ letters)"
   ]
  },
  {
   "cell_type": "code",
   "execution_count": 16,
   "id": "78ad7972",
   "metadata": {},
   "outputs": [
    {
     "name": "stdout",
     "output_type": "stream",
     "text": [
      "['A' 'C' 'E' 'G' 'I']\n"
     ]
    }
   ],
   "source": [
    "import numpy as np\n",
    "\n",
    "np_array_2d = np.array([[1, \"A\"], [3, \"C\"], [2, \"B\"], [4, \"D\"],\n",
    "                        [5, \"E\"], [7, \"G\"], [6, \"F\"], [8, \"H\"],\n",
    "                        [10, \"J\"], [9, \"I\"]])\n",
    "np_array_2d_numbers = np_array_2d[:,0].astype(int)\n",
    "np_array_2d_remainder = np_array_2d_numbers%2\n",
    "np_array_2d_tf = np_array_2d_remainder == 1\n",
    "print(np_array_2d[np_array_2d_tf][:,1])\n"
   ]
  },
  {
   "cell_type": "markdown",
   "id": "bca19986",
   "metadata": {},
   "source": [
    "## Exercise 3  "
   ]
  },
  {
   "cell_type": "code",
   "execution_count": 36,
   "id": "6b9d201e",
   "metadata": {},
   "outputs": [
    {
     "name": "stdout",
     "output_type": "stream",
     "text": [
      "[[ 1  0  1 -1 -1]\n",
      " [ 1 -1  1 -1 -1]\n",
      " [ 1 -1 -1  1 -1]\n",
      " [-1  1  1 -1 -1]\n",
      " [ 1 -1  1 -1  1]]\n"
     ]
    }
   ],
   "source": [
    "np_array_ex3 = np.array([[66, 50, 57, -1, -1],\n",
    "                         [92, -1, 88, -1, -1],\n",
    "                         [75, -1, -1, 76, -1],\n",
    "                         [-1, 51, 87, -1, -1],\n",
    "                         [71, -1, 67, -1, 69]])\n",
    "np_array_ex3_b50 = np_array_ex3 < 50\n",
    "np_array_ex3_50 = np_array_ex3 == 50\n",
    "np_array_ex3_a50 = np_array_ex3 > 50\n",
    "\n",
    "np_array_ex3[np_array_ex3_b50] = -1\n",
    "np_array_ex3[np_array_ex3_50] = 0\n",
    "np_array_ex3[np_array_ex3_a50] = 1\n",
    "\n",
    "print(np_array_ex3)"
   ]
  }
 ],
 "metadata": {
  "kernelspec": {
   "display_name": "base",
   "language": "python",
   "name": "python3"
  },
  "language_info": {
   "codemirror_mode": {
    "name": "ipython",
    "version": 3
   },
   "file_extension": ".py",
   "mimetype": "text/x-python",
   "name": "python",
   "nbconvert_exporter": "python",
   "pygments_lexer": "ipython3",
   "version": "3.13.5"
  },
  "toc": {
   "base_numbering": 1,
   "nav_menu": {},
   "number_sections": true,
   "sideBar": true,
   "skip_h1_title": false,
   "title_cell": "Table of Contents",
   "title_sidebar": "Contents",
   "toc_cell": false,
   "toc_position": {},
   "toc_section_display": true,
   "toc_window_display": false
  }
 },
 "nbformat": 4,
 "nbformat_minor": 5
}
