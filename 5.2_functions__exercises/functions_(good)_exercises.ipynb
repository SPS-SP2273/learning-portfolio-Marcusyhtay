{
 "cells": [
  {
   "attachments": {},
   "cell_type": "markdown",
   "id": "123456",
   "metadata": {},
   "source": [
    "<div style=\"text-align:left;font-size:2em\"><span style=\"font-weight:bolder;font-size:1.25em\">SP2273 | Learning Portfolio</span><br><br><span style=\"font-weight:bold;color:darkred\">Functions (Good) Exercises</span></div>"
   ]
  },
  {
   "cell_type": "markdown",
   "id": "ecc8ec64",
   "metadata": {},
   "source": [
    "## Exercise 1 (Celsius to Fahrenheit or Kelvin) "
   ]
  },
  {
   "cell_type": "code",
   "execution_count": 9,
   "id": "3b0b584a",
   "metadata": {},
   "outputs": [],
   "source": [
    "def convert_celsius(temperature_celsius, target_scale='Fahrenheit'):\n",
    "    temperature_celsius = int(temperature_celsius)\n",
    "    if target_scale == 'Fahrenheit':\n",
    "        return (temperature_celsius*1.8)+32\n",
    "    elif target_scale == 'Kelvin':\n",
    "        return temperature_celsius+273.15\n",
    "    else:\n",
    "        return \"Please enter target scale either as 'Farhenheit' or 'Kelvin'\""
   ]
  },
  {
   "cell_type": "markdown",
   "id": "67fbc890",
   "metadata": {},
   "source": [
    "## Exercise 2 (Fahrenheit to Celsius or Kelvin)"
   ]
  },
  {
   "cell_type": "code",
   "execution_count": 14,
   "id": "cb7dc5d4",
   "metadata": {},
   "outputs": [],
   "source": [
    "def convert_fahrenheit(temperature_fahrenheit, target_scale='Celcius'):\n",
    "    if target_scale == 'Celcius':\n",
    "        return (temperature_fahrenheit-32)*(5/9)\n",
    "    elif target_scale == 'Kelvin':\n",
    "        return (temperature_fahrenheit-32)*(5/9)+273.15\n",
    "    else:\n",
    "        return \"Please enter target scale either as 'Celcius' or 'Kelvin'\""
   ]
  },
  {
   "cell_type": "markdown",
   "id": "0e003a90",
   "metadata": {},
   "source": [
    "## Exercise 3 (General Temperature Conversion)"
   ]
  },
  {
   "cell_type": "code",
   "execution_count": 26,
   "id": "a5e5e713",
   "metadata": {},
   "outputs": [],
   "source": [
    "def convert_kelvin(temperature_kelvin, target_scale='Celcius'):\n",
    "    if target_scale == 'Celcius':\n",
    "        return temperature_kelvin-273.15\n",
    "    elif target_scale == 'Fahrenheit':\n",
    "        return (temperature_kelvin-273.15)*(9/5)+32\n",
    "    else:\n",
    "        return \"Please enter target scale either as 'Celcius' or 'Fahrenheit'\"\n",
    "\n",
    "def convert_temperature(temperature, source_scale, target_scale):\n",
    "    if source_scale == 'Fahrenheit':\n",
    "        return convert_fahrenheit(temperature, target_scale)\n",
    "    elif source_scale == 'Celcius':\n",
    "        return convert_celsius(temperature, target_scale)\n",
    "    elif source_scale == 'Kelvin':\n",
    "        return convert_kelvin(temperature,target_scale)\n",
    "    else:\n",
    "        return \"Please enter source scale either as 'Celsius', 'Fahrenheit', or 'Kelvin', and target scale as one of the other 2 types\"\n"
   ]
  }
 ],
 "metadata": {
  "kernelspec": {
   "display_name": "base",
   "language": "python",
   "name": "python3"
  },
  "language_info": {
   "codemirror_mode": {
    "name": "ipython",
    "version": 3
   },
   "file_extension": ".py",
   "mimetype": "text/x-python",
   "name": "python",
   "nbconvert_exporter": "python",
   "pygments_lexer": "ipython3",
   "version": "3.13.5"
  },
  "toc": {
   "base_numbering": 1,
   "nav_menu": {},
   "number_sections": true,
   "sideBar": true,
   "skip_h1_title": false,
   "title_cell": "Table of Contents",
   "title_sidebar": "Contents",
   "toc_cell": false,
   "toc_position": {},
   "toc_section_display": true,
   "toc_window_display": false
  }
 },
 "nbformat": 4,
 "nbformat_minor": 5
}
